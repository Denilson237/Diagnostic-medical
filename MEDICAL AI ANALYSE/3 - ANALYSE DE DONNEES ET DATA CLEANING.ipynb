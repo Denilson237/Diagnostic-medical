{
 "cells": [
  {
   "cell_type": "markdown",
   "id": "a7632d40",
   "metadata": {},
   "source": [
    "# <center>ANALYSE DE DONNEES ET DATA CLEANING (nettoyage de données)</center> "
   ]
  },
  {
   "cell_type": "markdown",
   "id": "57d5ab4e",
   "metadata": {},
   "source": [
    "### OBJECTIF: \n",
    "        - Améliorer la Compréhension des Données\n",
    "        - Gestion des Valeurs Manquantes\n",
    "        - Identification et Gestion des Doublons\n",
    "        - Préparation pour l'Analyse et la visualisation de donnees    \n",
    "---"
   ]
  },
  {
   "cell_type": "markdown",
   "id": "9f52e1d4",
   "metadata": {},
   "source": [
    "### Importations"
   ]
  },
  {
   "cell_type": "code",
   "execution_count": 1,
   "id": "86d4d91e",
   "metadata": {},
   "outputs": [],
   "source": [
    "import pandas as pd"
   ]
  },
  {
   "cell_type": "markdown",
   "id": "8c3302e9",
   "metadata": {},
   "source": [
    "### Lecture du dataset"
   ]
  },
  {
   "cell_type": "code",
   "execution_count": 2,
   "id": "31ac4c9a",
   "metadata": {},
   "outputs": [
    {
     "data": {
      "text/html": [
       "<div>\n",
       "<style scoped>\n",
       "    .dataframe tbody tr th:only-of-type {\n",
       "        vertical-align: middle;\n",
       "    }\n",
       "\n",
       "    .dataframe tbody tr th {\n",
       "        vertical-align: top;\n",
       "    }\n",
       "\n",
       "    .dataframe thead th {\n",
       "        text-align: right;\n",
       "    }\n",
       "</style>\n",
       "<table border=\"1\" class=\"dataframe\">\n",
       "  <thead>\n",
       "    <tr style=\"text-align: right;\">\n",
       "      <th></th>\n",
       "      <th>Maladies</th>\n",
       "      <th>Symptomes</th>\n",
       "      <th>Traitement</th>\n",
       "      <th>Examens</th>\n",
       "    </tr>\n",
       "  </thead>\n",
       "  <tbody>\n",
       "    <tr>\n",
       "      <th>0</th>\n",
       "      <td>Endométriose</td>\n",
       "      <td>Douleurs pelviennes intenses,Douleurs pendant ...</td>\n",
       "      <td>médicaments anti-inflammatoires,chirurgie,trai...</td>\n",
       "      <td>imagerie médicale (échographie pelvienne),lapa...</td>\n",
       "    </tr>\n",
       "    <tr>\n",
       "      <th>1</th>\n",
       "      <td>Anémie ferriprive</td>\n",
       "      <td>Fatigue intense,Faiblesse générale,Palpitation...</td>\n",
       "      <td>suppléments de fer,ajustement du régime alimen...</td>\n",
       "      <td>analyse de sang (taux de fer),numération sangu...</td>\n",
       "    </tr>\n",
       "    <tr>\n",
       "      <th>2</th>\n",
       "      <td>Trouble bipolaire</td>\n",
       "      <td>Variations extrêmes d'humeur,Irritabilité ,ins...</td>\n",
       "      <td>médicaments stabilisateurs de l'humeur,thérapi...</td>\n",
       "      <td>évaluation psychiatrique,entretiens cliniques</td>\n",
       "    </tr>\n",
       "    <tr>\n",
       "      <th>3</th>\n",
       "      <td>Maladie de Lyme</td>\n",
       "      <td>Éruption cutanée en forme de cible (érythème m...</td>\n",
       "      <td>antibiotiques,médicaments anti-inflammatoires,...</td>\n",
       "      <td>test sanguin (détection d'anticorps),analyse d...</td>\n",
       "    </tr>\n",
       "    <tr>\n",
       "      <th>4</th>\n",
       "      <td>Schizophrénie</td>\n",
       "      <td>Hallucinations auditives,Hallucinations olfact...</td>\n",
       "      <td>antipsychotiques,thérapie psychosociale,hospit...</td>\n",
       "      <td>évaluation psychiatrique,entretiens cliniques,...</td>\n",
       "    </tr>\n",
       "    <tr>\n",
       "      <th>...</th>\n",
       "      <td>...</td>\n",
       "      <td>...</td>\n",
       "      <td>...</td>\n",
       "      <td>...</td>\n",
       "    </tr>\n",
       "    <tr>\n",
       "      <th>96</th>\n",
       "      <td>Paludisme</td>\n",
       "      <td>fièvre,frissons,maux de tête,fatigue</td>\n",
       "      <td>antipaludiques,repos</td>\n",
       "      <td>test de dépistage du paludisme</td>\n",
       "    </tr>\n",
       "    <tr>\n",
       "      <th>97</th>\n",
       "      <td>Bilharziose (Schistosomiase)</td>\n",
       "      <td>fièvre,toux,éruption cutanée,douleurs musculaires</td>\n",
       "      <td>antiparasitaires,antibiotiques</td>\n",
       "      <td>examen microscopique des selles ou de l'urine</td>\n",
       "    </tr>\n",
       "    <tr>\n",
       "      <th>98</th>\n",
       "      <td>Trypanosomiase africaine</td>\n",
       "      <td>fièvre,fatigue,maux de tête,ganglions enflés</td>\n",
       "      <td>médicaments antiparasitaires,antibiotiques</td>\n",
       "      <td>test sanguin</td>\n",
       "    </tr>\n",
       "    <tr>\n",
       "      <th>99</th>\n",
       "      <td>Maladie de Chagas</td>\n",
       "      <td>fièvre,fatigue,gonflement des paupières,troubl...</td>\n",
       "      <td>médicaments antiparasitaires,médicaments pour ...</td>\n",
       "      <td>test sanguin,électrocardiogramme (ECG)</td>\n",
       "    </tr>\n",
       "    <tr>\n",
       "      <th>100</th>\n",
       "      <td>Leishmaniose (Kala Azar)</td>\n",
       "      <td>fièvre prolongée,perte de poids,anémie,enflure...</td>\n",
       "      <td>médicaments antiparasitaires,traitement de sup...</td>\n",
       "      <td>aspiration de moelle osseuse</td>\n",
       "    </tr>\n",
       "  </tbody>\n",
       "</table>\n",
       "<p>101 rows × 4 columns</p>\n",
       "</div>"
      ],
      "text/plain": [
       "                         Maladies  \\\n",
       "0                    Endométriose   \n",
       "1               Anémie ferriprive   \n",
       "2               Trouble bipolaire   \n",
       "3                 Maladie de Lyme   \n",
       "4                   Schizophrénie   \n",
       "..                            ...   \n",
       "96                      Paludisme   \n",
       "97   Bilharziose (Schistosomiase)   \n",
       "98       Trypanosomiase africaine   \n",
       "99              Maladie de Chagas   \n",
       "100      Leishmaniose (Kala Azar)   \n",
       "\n",
       "                                             Symptomes  \\\n",
       "0    Douleurs pelviennes intenses,Douleurs pendant ...   \n",
       "1    Fatigue intense,Faiblesse générale,Palpitation...   \n",
       "2    Variations extrêmes d'humeur,Irritabilité ,ins...   \n",
       "3    Éruption cutanée en forme de cible (érythème m...   \n",
       "4    Hallucinations auditives,Hallucinations olfact...   \n",
       "..                                                 ...   \n",
       "96                fièvre,frissons,maux de tête,fatigue   \n",
       "97   fièvre,toux,éruption cutanée,douleurs musculaires   \n",
       "98        fièvre,fatigue,maux de tête,ganglions enflés   \n",
       "99   fièvre,fatigue,gonflement des paupières,troubl...   \n",
       "100  fièvre prolongée,perte de poids,anémie,enflure...   \n",
       "\n",
       "                                            Traitement  \\\n",
       "0    médicaments anti-inflammatoires,chirurgie,trai...   \n",
       "1    suppléments de fer,ajustement du régime alimen...   \n",
       "2    médicaments stabilisateurs de l'humeur,thérapi...   \n",
       "3    antibiotiques,médicaments anti-inflammatoires,...   \n",
       "4    antipsychotiques,thérapie psychosociale,hospit...   \n",
       "..                                                 ...   \n",
       "96                                antipaludiques,repos   \n",
       "97                      antiparasitaires,antibiotiques   \n",
       "98          médicaments antiparasitaires,antibiotiques   \n",
       "99   médicaments antiparasitaires,médicaments pour ...   \n",
       "100  médicaments antiparasitaires,traitement de sup...   \n",
       "\n",
       "                                               Examens  \n",
       "0    imagerie médicale (échographie pelvienne),lapa...  \n",
       "1    analyse de sang (taux de fer),numération sangu...  \n",
       "2        évaluation psychiatrique,entretiens cliniques  \n",
       "3    test sanguin (détection d'anticorps),analyse d...  \n",
       "4    évaluation psychiatrique,entretiens cliniques,...  \n",
       "..                                                 ...  \n",
       "96                      test de dépistage du paludisme  \n",
       "97       examen microscopique des selles ou de l'urine  \n",
       "98                                        test sanguin  \n",
       "99              test sanguin,électrocardiogramme (ECG)  \n",
       "100                       aspiration de moelle osseuse  \n",
       "\n",
       "[101 rows x 4 columns]"
      ]
     },
     "execution_count": 2,
     "metadata": {},
     "output_type": "execute_result"
    }
   ],
   "source": [
    "df = pd.read_csv(\"Ressources/RessourcesCollecte2/Dataset_Maladies.csv\")\n",
    "df"
   ]
  },
  {
   "cell_type": "markdown",
   "id": "13c538fd",
   "metadata": {},
   "source": [
    "### Verifions le type de données et le nombre de valeurs manquantes"
   ]
  },
  {
   "cell_type": "code",
   "execution_count": 3,
   "id": "edd72443",
   "metadata": {},
   "outputs": [
    {
     "name": "stdout",
     "output_type": "stream",
     "text": [
      "<class 'pandas.core.frame.DataFrame'>\n",
      "RangeIndex: 101 entries, 0 to 100\n",
      "Data columns (total 4 columns):\n",
      " #   Column      Non-Null Count  Dtype \n",
      "---  ------      --------------  ----- \n",
      " 0   Maladies    101 non-null    object\n",
      " 1   Symptomes   101 non-null    object\n",
      " 2   Traitement  101 non-null    object\n",
      " 3   Examens     101 non-null    object\n",
      "dtypes: object(4)\n",
      "memory usage: 3.3+ KB\n"
     ]
    }
   ],
   "source": [
    "df.info()"
   ]
  },
  {
   "cell_type": "code",
   "execution_count": 4,
   "id": "d054d3ec",
   "metadata": {},
   "outputs": [
    {
     "data": {
      "text/plain": [
       "Maladies      0\n",
       "Symptomes     0\n",
       "Traitement    0\n",
       "Examens       0\n",
       "dtype: int64"
      ]
     },
     "execution_count": 4,
     "metadata": {},
     "output_type": "execute_result"
    }
   ],
   "source": [
    "valeurs_manquantes = df.isnull().sum()\n",
    "valeurs_manquantes"
   ]
  },
  {
   "cell_type": "code",
   "execution_count": 5,
   "id": "077b3b8c",
   "metadata": {},
   "outputs": [
    {
     "data": {
      "text/plain": [
       "Maladies      object\n",
       "Symptomes     object\n",
       "Traitement    object\n",
       "Examens       object\n",
       "dtype: object"
      ]
     },
     "execution_count": 5,
     "metadata": {},
     "output_type": "execute_result"
    }
   ],
   "source": [
    "df.dtypes"
   ]
  },
  {
   "cell_type": "markdown",
   "id": "f0733f75",
   "metadata": {},
   "source": [
    "### CONCLUSION 1: nous n'avons pas de valeurs manquantes et le type de nos données est cohérent"
   ]
  },
  {
   "cell_type": "markdown",
   "id": "7d750c89",
   "metadata": {},
   "source": [
    "### Verifions le nombre de valeurs unique sur chaque colonne"
   ]
  },
  {
   "cell_type": "code",
   "execution_count": 6,
   "id": "301ec37f",
   "metadata": {},
   "outputs": [
    {
     "data": {
      "text/plain": [
       "Maladies       0\n",
       "Symptomes      0\n",
       "Traitement    22\n",
       "Examens        1\n",
       "dtype: int64"
      ]
     },
     "execution_count": 6,
     "metadata": {},
     "output_type": "execute_result"
    }
   ],
   "source": [
    "len(df) - df.nunique()"
   ]
  },
  {
   "cell_type": "markdown",
   "id": "7466eb00",
   "metadata": {},
   "source": [
    "### Verifions le nombre de doublons dans notre jeux de donnees"
   ]
  },
  {
   "cell_type": "code",
   "execution_count": 7,
   "id": "e91a1244",
   "metadata": {},
   "outputs": [
    {
     "data": {
      "text/plain": [
       "0"
      ]
     },
     "execution_count": 7,
     "metadata": {},
     "output_type": "execute_result"
    }
   ],
   "source": [
    "df.duplicated().sum()"
   ]
  },
  {
   "cell_type": "markdown",
   "id": "47e1a74e",
   "metadata": {},
   "source": [
    "### CONCLUSION 2: notre dataset ne possede pas de doublons"
   ]
  },
  {
   "cell_type": "markdown",
   "id": "7e36585d",
   "metadata": {},
   "source": [
    "### Nettoyons les valeurs contenues dans les colonnes Symptomes,Traitement et examens"
   ]
  },
  {
   "cell_type": "code",
   "execution_count": 8,
   "id": "425c356a",
   "metadata": {},
   "outputs": [],
   "source": [
    "def netoyage(dfr):\n",
    "    dfr = dfr.str.lower()\n",
    "    dfr = dfr.str.strip()\n",
    "    return dfr"
   ]
  },
  {
   "cell_type": "code",
   "execution_count": 9,
   "id": "fc7ebed1",
   "metadata": {},
   "outputs": [],
   "source": [
    "df = df.apply(lambda x: netoyage(x))"
   ]
  },
  {
   "cell_type": "code",
   "execution_count": 10,
   "id": "f21766e1",
   "metadata": {},
   "outputs": [
    {
     "data": {
      "text/html": [
       "<div>\n",
       "<style scoped>\n",
       "    .dataframe tbody tr th:only-of-type {\n",
       "        vertical-align: middle;\n",
       "    }\n",
       "\n",
       "    .dataframe tbody tr th {\n",
       "        vertical-align: top;\n",
       "    }\n",
       "\n",
       "    .dataframe thead th {\n",
       "        text-align: right;\n",
       "    }\n",
       "</style>\n",
       "<table border=\"1\" class=\"dataframe\">\n",
       "  <thead>\n",
       "    <tr style=\"text-align: right;\">\n",
       "      <th></th>\n",
       "      <th>Maladies</th>\n",
       "      <th>Symptomes</th>\n",
       "      <th>Traitement</th>\n",
       "      <th>Examens</th>\n",
       "    </tr>\n",
       "  </thead>\n",
       "  <tbody>\n",
       "    <tr>\n",
       "      <th>0</th>\n",
       "      <td>endométriose</td>\n",
       "      <td>douleurs pelviennes intenses,douleurs pendant ...</td>\n",
       "      <td>médicaments anti-inflammatoires,chirurgie,trai...</td>\n",
       "      <td>imagerie médicale (échographie pelvienne),lapa...</td>\n",
       "    </tr>\n",
       "    <tr>\n",
       "      <th>1</th>\n",
       "      <td>anémie ferriprive</td>\n",
       "      <td>fatigue intense,faiblesse générale,palpitation...</td>\n",
       "      <td>suppléments de fer,ajustement du régime alimen...</td>\n",
       "      <td>analyse de sang (taux de fer),numération sangu...</td>\n",
       "    </tr>\n",
       "    <tr>\n",
       "      <th>2</th>\n",
       "      <td>trouble bipolaire</td>\n",
       "      <td>variations extrêmes d'humeur,irritabilité ,ins...</td>\n",
       "      <td>médicaments stabilisateurs de l'humeur,thérapi...</td>\n",
       "      <td>évaluation psychiatrique,entretiens cliniques</td>\n",
       "    </tr>\n",
       "    <tr>\n",
       "      <th>3</th>\n",
       "      <td>maladie de lyme</td>\n",
       "      <td>éruption cutanée en forme de cible (érythème m...</td>\n",
       "      <td>antibiotiques,médicaments anti-inflammatoires,...</td>\n",
       "      <td>test sanguin (détection d'anticorps),analyse d...</td>\n",
       "    </tr>\n",
       "    <tr>\n",
       "      <th>4</th>\n",
       "      <td>schizophrénie</td>\n",
       "      <td>hallucinations auditives,hallucinations olfact...</td>\n",
       "      <td>antipsychotiques,thérapie psychosociale,hospit...</td>\n",
       "      <td>évaluation psychiatrique,entretiens cliniques,...</td>\n",
       "    </tr>\n",
       "  </tbody>\n",
       "</table>\n",
       "</div>"
      ],
      "text/plain": [
       "            Maladies                                          Symptomes  \\\n",
       "0       endométriose  douleurs pelviennes intenses,douleurs pendant ...   \n",
       "1  anémie ferriprive  fatigue intense,faiblesse générale,palpitation...   \n",
       "2  trouble bipolaire  variations extrêmes d'humeur,irritabilité ,ins...   \n",
       "3    maladie de lyme  éruption cutanée en forme de cible (érythème m...   \n",
       "4      schizophrénie  hallucinations auditives,hallucinations olfact...   \n",
       "\n",
       "                                          Traitement  \\\n",
       "0  médicaments anti-inflammatoires,chirurgie,trai...   \n",
       "1  suppléments de fer,ajustement du régime alimen...   \n",
       "2  médicaments stabilisateurs de l'humeur,thérapi...   \n",
       "3  antibiotiques,médicaments anti-inflammatoires,...   \n",
       "4  antipsychotiques,thérapie psychosociale,hospit...   \n",
       "\n",
       "                                             Examens  \n",
       "0  imagerie médicale (échographie pelvienne),lapa...  \n",
       "1  analyse de sang (taux de fer),numération sangu...  \n",
       "2      évaluation psychiatrique,entretiens cliniques  \n",
       "3  test sanguin (détection d'anticorps),analyse d...  \n",
       "4  évaluation psychiatrique,entretiens cliniques,...  "
      ]
     },
     "execution_count": 10,
     "metadata": {},
     "output_type": "execute_result"
    }
   ],
   "source": [
    "df.head()"
   ]
  },
  {
   "cell_type": "markdown",
   "id": "1e49818c",
   "metadata": {},
   "source": [
    "### Exportation"
   ]
  },
  {
   "cell_type": "code",
   "execution_count": 11,
   "id": "03ad55b0",
   "metadata": {},
   "outputs": [
    {
     "name": "stdout",
     "output_type": "stream",
     "text": [
      "DataFrame exporté avec succès.\n"
     ]
    }
   ],
   "source": [
    "# Exportation du DataFrame en fichier CSV, json et excel\n",
    "\n",
    "df.to_excel('Ressources/RessourcesAnalyse/DatasetClean.xlsx', index=False)\n",
    "\n",
    "df.to_csv('Ressources/RessourcesAnalyse/DatasetClean.csv', index=False)\n",
    "\n",
    "df.to_json('Ressources/RessourcesAnalyse/DatasetClean.json', orient='records', lines=True)\n",
    "\n",
    "print(\"DataFrame exporté avec succès.\")"
   ]
  }
 ],
 "metadata": {
  "kernelspec": {
   "display_name": "Python 3 (ipykernel)",
   "language": "python",
   "name": "python3"
  },
  "language_info": {
   "codemirror_mode": {
    "name": "ipython",
    "version": 3
   },
   "file_extension": ".py",
   "mimetype": "text/x-python",
   "name": "python",
   "nbconvert_exporter": "python",
   "pygments_lexer": "ipython3",
   "version": "3.11.5"
  }
 },
 "nbformat": 4,
 "nbformat_minor": 5
}
