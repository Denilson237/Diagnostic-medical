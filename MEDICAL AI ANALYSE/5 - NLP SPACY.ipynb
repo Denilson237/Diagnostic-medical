{
 "cells": [
  {
   "cell_type": "markdown",
   "id": "6ba3f2fb",
   "metadata": {},
   "source": [
    "### Importations"
   ]
  },
  {
   "cell_type": "code",
   "execution_count": 1,
   "id": "a0e3b884",
   "metadata": {},
   "outputs": [],
   "source": [
    "import pandas as pd\n",
    "import numpy as np\n",
    "import re\n",
    "from collections import OrderedDict\n",
    "from nltk.tokenize import word_tokenize\n",
    "from unidecode import unidecode\n",
    "from nltk.corpus import stopwords\n",
    "from nltk.stem import WordNetLemmatizer,PorterStemmer"
   ]
  },
  {
   "cell_type": "markdown",
   "id": "5d924a56",
   "metadata": {},
   "source": [
    "### Lecture du dataset"
   ]
  },
  {
   "cell_type": "code",
   "execution_count": 2,
   "id": "4d3a6eb2",
   "metadata": {},
   "outputs": [
    {
     "data": {
      "text/html": [
       "<div>\n",
       "<style scoped>\n",
       "    .dataframe tbody tr th:only-of-type {\n",
       "        vertical-align: middle;\n",
       "    }\n",
       "\n",
       "    .dataframe tbody tr th {\n",
       "        vertical-align: top;\n",
       "    }\n",
       "\n",
       "    .dataframe thead th {\n",
       "        text-align: right;\n",
       "    }\n",
       "</style>\n",
       "<table border=\"1\" class=\"dataframe\">\n",
       "  <thead>\n",
       "    <tr style=\"text-align: right;\">\n",
       "      <th></th>\n",
       "      <th>Maladies</th>\n",
       "      <th>Symptomes</th>\n",
       "      <th>Traitement</th>\n",
       "      <th>Examens</th>\n",
       "    </tr>\n",
       "  </thead>\n",
       "  <tbody>\n",
       "    <tr>\n",
       "      <th>0</th>\n",
       "      <td>endométriose</td>\n",
       "      <td>douleurs pelviennes intenses,douleurs pendant ...</td>\n",
       "      <td>médicaments anti-inflammatoires,chirurgie,trai...</td>\n",
       "      <td>imagerie médicale (échographie pelvienne),lapa...</td>\n",
       "    </tr>\n",
       "    <tr>\n",
       "      <th>1</th>\n",
       "      <td>anémie ferriprive</td>\n",
       "      <td>fatigue intense,faiblesse générale,palpitation...</td>\n",
       "      <td>suppléments de fer,ajustement du régime alimen...</td>\n",
       "      <td>analyse de sang (taux de fer),numération sangu...</td>\n",
       "    </tr>\n",
       "    <tr>\n",
       "      <th>2</th>\n",
       "      <td>trouble bipolaire</td>\n",
       "      <td>variations extrêmes d'humeur,irritabilité ,ins...</td>\n",
       "      <td>médicaments stabilisateurs de l'humeur,thérapi...</td>\n",
       "      <td>évaluation psychiatrique,entretiens cliniques</td>\n",
       "    </tr>\n",
       "    <tr>\n",
       "      <th>3</th>\n",
       "      <td>maladie de lyme</td>\n",
       "      <td>éruption cutanée en forme de cible (érythème m...</td>\n",
       "      <td>antibiotiques,médicaments anti-inflammatoires,...</td>\n",
       "      <td>test sanguin (détection d'anticorps),analyse d...</td>\n",
       "    </tr>\n",
       "    <tr>\n",
       "      <th>4</th>\n",
       "      <td>schizophrénie</td>\n",
       "      <td>hallucinations auditives,hallucinations olfact...</td>\n",
       "      <td>antipsychotiques,thérapie psychosociale,hospit...</td>\n",
       "      <td>évaluation psychiatrique,entretiens cliniques,...</td>\n",
       "    </tr>\n",
       "  </tbody>\n",
       "</table>\n",
       "</div>"
      ],
      "text/plain": [
       "            Maladies                                          Symptomes  \\\n",
       "0       endométriose  douleurs pelviennes intenses,douleurs pendant ...   \n",
       "1  anémie ferriprive  fatigue intense,faiblesse générale,palpitation...   \n",
       "2  trouble bipolaire  variations extrêmes d'humeur,irritabilité ,ins...   \n",
       "3    maladie de lyme  éruption cutanée en forme de cible (érythème m...   \n",
       "4      schizophrénie  hallucinations auditives,hallucinations olfact...   \n",
       "\n",
       "                                          Traitement  \\\n",
       "0  médicaments anti-inflammatoires,chirurgie,trai...   \n",
       "1  suppléments de fer,ajustement du régime alimen...   \n",
       "2  médicaments stabilisateurs de l'humeur,thérapi...   \n",
       "3  antibiotiques,médicaments anti-inflammatoires,...   \n",
       "4  antipsychotiques,thérapie psychosociale,hospit...   \n",
       "\n",
       "                                             Examens  \n",
       "0  imagerie médicale (échographie pelvienne),lapa...  \n",
       "1  analyse de sang (taux de fer),numération sangu...  \n",
       "2      évaluation psychiatrique,entretiens cliniques  \n",
       "3  test sanguin (détection d'anticorps),analyse d...  \n",
       "4  évaluation psychiatrique,entretiens cliniques,...  "
      ]
     },
     "execution_count": 2,
     "metadata": {},
     "output_type": "execute_result"
    }
   ],
   "source": [
    "df = pd.read_csv(\"Ressources/RessourcesAnalyse/DatasetClean.csv\")\n",
    "df.head()"
   ]
  },
  {
   "cell_type": "markdown",
   "id": "bd01e2da",
   "metadata": {},
   "source": [
    "## I - Nettoyage de données "
   ]
  },
  {
   "cell_type": "code",
   "execution_count": 3,
   "id": "5749a26b",
   "metadata": {},
   "outputs": [],
   "source": [
    "stop_words = stopwords.words('french')\n",
    "lemmatizer = WordNetLemmatizer()\n",
    "\n",
    "ps = PorterStemmer()"
   ]
  },
  {
   "cell_type": "code",
   "execution_count": 4,
   "id": "839d40cc",
   "metadata": {},
   "outputs": [],
   "source": [
    "new_stopwords =[\"facilement\",\"tres\",\"pendant\"]\n",
    "\n",
    "stop_words.extend(new_stopwords)"
   ]
  },
  {
   "cell_type": "code",
   "execution_count": 5,
   "id": "75460f48",
   "metadata": {},
   "outputs": [],
   "source": [
    "def Cleaning(text):\n",
    "    \n",
    "    def remove_s(word):\n",
    "        if word.endswith('s'):\n",
    "            return word[:-1]\n",
    "        if word.endswith('ment'):\n",
    "            return word[:-4]\n",
    "        else:\n",
    "            return word\n",
    "        \n",
    "    liste2 = [\"abdomin \",\"abdomen\",\"abdominal\"]\n",
    "    liste1 = [\"douleur\",\"mal\"]\n",
    "        \n",
    "    # Supprimer des ponctuations\n",
    "    text = re.sub(\"[^\\w\\s]\", \" \", text)\n",
    "   \n",
    "    text = ' '.join([lemmatizer.lemmatize(unidecode(word.lower())) for word in word_tokenize(text) if word.isalnum() and word.lower() not in stop_words])\n",
    "    \n",
    "    # supprimer les chiffres\n",
    "    text = re.sub(\"\\d\", \"\", text)\n",
    "    \n",
    "    #text = [remove_s(word) for word in text]\n",
    "    \n",
    "    text = text.replace(\"ee \",\"e \")\n",
    "    text = text.replace(\"cutane\",\"peau\")\n",
    "    \n",
    "    for i in liste2:\n",
    "        text = text.replace(i,\"ventre \")\n",
    "        \n",
    "    text = list(OrderedDict.fromkeys(text.split()))\n",
    "    \n",
    "    text = ' '.join([remove_s(word) for word in text])\n",
    "    \n",
    "    for i in liste1:\n",
    "        text = text.replace(i,\"maux\")\n",
    "    \n",
    "    text = text.replace(\" e \",\" \")\n",
    "    return text\n",
    "\n"
   ]
  },
  {
   "cell_type": "code",
   "execution_count": 6,
   "id": "16b54b78",
   "metadata": {},
   "outputs": [
    {
     "data": {
      "text/plain": [
       "0      maux pelvienne intense regle rapport sexuel lo...\n",
       "1      fatigue intense faiblesse generale palpitation...\n",
       "2      variation extreme humeur irritabilite insomnie...\n",
       "3      eruption peau forme cible erytheme migrant fat...\n",
       "4      hallucination auditive olfactive visuelle idee...\n",
       "                             ...                        \n",
       "96                      fievre frisson maux tete fatigue\n",
       "97             fievre toux eruption peau maux musculaire\n",
       "98               fievre fatigue maux tete ganglion enfle\n",
       "99      fievre fatigue gonfle paupiere trouble cardiaque\n",
       "100    fievre prolonge perte poid anemie enflure rate...\n",
       "Name: Symptomes_lem_token, Length: 101, dtype: object"
      ]
     },
     "execution_count": 6,
     "metadata": {},
     "output_type": "execute_result"
    }
   ],
   "source": [
    "df[\"Symptomes_lem_token\"] = df[\"Symptomes\"].apply(lambda x: Cleaning(x))\n",
    "df[\"Symptomes_lem_token\"]"
   ]
  },
  {
   "cell_type": "markdown",
   "id": "ea668e63",
   "metadata": {},
   "source": [
    "## III -  Calcul de similarité"
   ]
  },
  {
   "cell_type": "code",
   "execution_count": 7,
   "id": "0395d03f",
   "metadata": {},
   "outputs": [],
   "source": [
    "liste_symptomes =\"j'ai la fievres douala poid peau perte fatigue//. frissons yaya essouflement yaounde maux facilement , la ,   tête\"\n",
    "liste_symptomes = Cleaning(liste_symptomes)"
   ]
  },
  {
   "cell_type": "code",
   "execution_count": 8,
   "id": "a7ed6e6d",
   "metadata": {},
   "outputs": [],
   "source": [
    "\n",
    "import spacy\n",
    "\n",
    "# Charger le modèle linguistique français avec des vecteurs de mots\n",
    "nlp = spacy.load('fr_core_news_md')"
   ]
  },
  {
   "cell_type": "code",
   "execution_count": 9,
   "id": "f707c4b1",
   "metadata": {},
   "outputs": [
    {
     "name": "stderr",
     "output_type": "stream",
     "text": [
      "/var/folders/hj/yplghdzn6nbbj6yf39wxn2240000gn/T/ipykernel_10826/3289238199.py:11: UserWarning: [W008] Evaluating Doc.similarity based on empty vectors.\n",
      "  similarity = doc.similarity(val)\n"
     ]
    }
   ],
   "source": [
    "similarite = []\n",
    "\n",
    "for i in range(len(df[\"Symptomes_lem_token\"])):\n",
    "    \n",
    "    liste_symptome = \" \".join([i for i in df['Symptomes_lem_token'][i].split()  if i in liste_symptomes.split()])\n",
    "    \n",
    "    val = nlp(liste_symptome)\n",
    "    \n",
    "    doc = nlp(df['Symptomes_lem_token'][i])\n",
    "    \n",
    "    similarity = doc.similarity(val)\n",
    "    \n",
    "    similarite.append(similarity)"
   ]
  },
  {
   "cell_type": "code",
   "execution_count": 10,
   "id": "ddc02ef1",
   "metadata": {},
   "outputs": [],
   "source": [
    "similarite = np.array(similarite)"
   ]
  },
  {
   "cell_type": "code",
   "execution_count": 11,
   "id": "05a6f15d",
   "metadata": {},
   "outputs": [],
   "source": [
    "df['Similarite_%'] = 100*similarite.flatten()"
   ]
  },
  {
   "cell_type": "code",
   "execution_count": 12,
   "id": "eea595aa",
   "metadata": {},
   "outputs": [
    {
     "data": {
      "text/plain": [
       "0       63.977452\n",
       "1       77.056196\n",
       "2       64.116313\n",
       "3       80.123305\n",
       "4        0.000000\n",
       "          ...    \n",
       "96     100.000000\n",
       "97      92.449499\n",
       "98      94.371407\n",
       "99      80.610482\n",
       "100     87.203798\n",
       "Name: Similarite_%, Length: 101, dtype: float64"
      ]
     },
     "execution_count": 12,
     "metadata": {},
     "output_type": "execute_result"
    }
   ],
   "source": [
    "df['Similarite_%']"
   ]
  },
  {
   "cell_type": "code",
   "execution_count": 13,
   "id": "88ae614b",
   "metadata": {},
   "outputs": [],
   "source": [
    "df_tri = df.sort_values(by='Similarite_%', ascending=False)"
   ]
  },
  {
   "cell_type": "code",
   "execution_count": 14,
   "id": "b99bb90e",
   "metadata": {},
   "outputs": [
    {
     "name": "stdout",
     "output_type": "stream",
     "text": [
      "fievre douala poid peau perte fatigue frisson yaya essoufle yaounde maux tete\n"
     ]
    },
    {
     "data": {
      "text/html": [
       "<div>\n",
       "<style scoped>\n",
       "    .dataframe tbody tr th:only-of-type {\n",
       "        vertical-align: middle;\n",
       "    }\n",
       "\n",
       "    .dataframe tbody tr th {\n",
       "        vertical-align: top;\n",
       "    }\n",
       "\n",
       "    .dataframe thead th {\n",
       "        text-align: right;\n",
       "    }\n",
       "</style>\n",
       "<table border=\"1\" class=\"dataframe\">\n",
       "  <thead>\n",
       "    <tr style=\"text-align: right;\">\n",
       "      <th></th>\n",
       "      <th>Maladies</th>\n",
       "      <th>Symptomes</th>\n",
       "      <th>Traitement</th>\n",
       "      <th>Examens</th>\n",
       "      <th>Symptomes_lem_token</th>\n",
       "      <th>Similarite_%</th>\n",
       "    </tr>\n",
       "  </thead>\n",
       "  <tbody>\n",
       "    <tr>\n",
       "      <th>96</th>\n",
       "      <td>paludisme</td>\n",
       "      <td>fièvre,frissons,maux de tête,fatigue</td>\n",
       "      <td>antipaludiques,repos</td>\n",
       "      <td>test de dépistage du paludisme</td>\n",
       "      <td>fievre frisson maux tete fatigue</td>\n",
       "      <td>100.000000</td>\n",
       "    </tr>\n",
       "    <tr>\n",
       "      <th>84</th>\n",
       "      <td>varicelle</td>\n",
       "      <td>éruption cutanée avec des démangeaisons,fièvre...</td>\n",
       "      <td>antihistaminiques,antipyrétiques,calamine pour...</td>\n",
       "      <td>les symptômes sont souvent suffisants pour le ...</td>\n",
       "      <td>eruption peau demangeaison fievre maux tete fa...</td>\n",
       "      <td>95.949553</td>\n",
       "    </tr>\n",
       "    <tr>\n",
       "      <th>91</th>\n",
       "      <td>cancer</td>\n",
       "      <td>perte de poids inexpliquée,bosse anormale,fati...</td>\n",
       "      <td>chirurgie,chimiothérapie,radiothérapie</td>\n",
       "      <td>biopsie,imagerie médicale</td>\n",
       "      <td>perte poid inexplique bosse anormauxe fatigue ...</td>\n",
       "      <td>95.833342</td>\n",
       "    </tr>\n",
       "    <tr>\n",
       "      <th>44</th>\n",
       "      <td>maladie cœliaque</td>\n",
       "      <td>diarrhée chronique,douleurs abdominales,ballon...</td>\n",
       "      <td>régime sans gluten,suppléments nutritionnels,m...</td>\n",
       "      <td>analyse de sang (anticorps),biopsie de l'intes...</td>\n",
       "      <td>diarrhe chronique maux ventre ballonnement fat...</td>\n",
       "      <td>95.035814</td>\n",
       "    </tr>\n",
       "    <tr>\n",
       "      <th>60</th>\n",
       "      <td>mésothéliome</td>\n",
       "      <td>essoufflement,douleur thoracique,toux persista...</td>\n",
       "      <td>chirurgie,chimiothérapie,thérapie ciblée</td>\n",
       "      <td>scanner thoracique,biopsie,imagerie médicale</td>\n",
       "      <td>essouffle maux thoracique toux persistante per...</td>\n",
       "      <td>94.386656</td>\n",
       "    </tr>\n",
       "    <tr>\n",
       "      <th>...</th>\n",
       "      <td>...</td>\n",
       "      <td>...</td>\n",
       "      <td>...</td>\n",
       "      <td>...</td>\n",
       "      <td>...</td>\n",
       "      <td>...</td>\n",
       "    </tr>\n",
       "    <tr>\n",
       "      <th>62</th>\n",
       "      <td>ostéosarcome</td>\n",
       "      <td>douleur osseuse, généralement dans les bras ou...</td>\n",
       "      <td>chirurgie,chimiothérapie,radiothérapie</td>\n",
       "      <td>radiographie,irm,biopsie</td>\n",
       "      <td>maux osseuse generale bra jambe gonfle autour ...</td>\n",
       "      <td>41.325473</td>\n",
       "    </tr>\n",
       "    <tr>\n",
       "      <th>87</th>\n",
       "      <td>coqueluche</td>\n",
       "      <td>toux sévère par accès,éternuements,épuisement,...</td>\n",
       "      <td>antibiotiques,vaccin de rappel</td>\n",
       "      <td>prélèvement de sécrétions nasales pour la culture</td>\n",
       "      <td>toux severe acce eternuement epuise vomissemen...</td>\n",
       "      <td>0.000000</td>\n",
       "    </tr>\n",
       "    <tr>\n",
       "      <th>4</th>\n",
       "      <td>schizophrénie</td>\n",
       "      <td>hallucinations auditives,hallucinations olfact...</td>\n",
       "      <td>antipsychotiques,thérapie psychosociale,hospit...</td>\n",
       "      <td>évaluation psychiatrique,entretiens cliniques,...</td>\n",
       "      <td>hallucination auditive olfactive visuelle idee...</td>\n",
       "      <td>0.000000</td>\n",
       "    </tr>\n",
       "    <tr>\n",
       "      <th>22</th>\n",
       "      <td>condylomes génitaux (hpv)</td>\n",
       "      <td>verrues génitales,démangeaisons,saignements pe...</td>\n",
       "      <td>crèmes antivirales,ablation des verrues</td>\n",
       "      <td>test hpv,examen visuel</td>\n",
       "      <td>verrue genitale demangeaison saignement rappor...</td>\n",
       "      <td>0.000000</td>\n",
       "    </tr>\n",
       "    <tr>\n",
       "      <th>42</th>\n",
       "      <td>maladie de parkinson</td>\n",
       "      <td>tremblements au repos,raideur musculaire,lente...</td>\n",
       "      <td>médicaments dopaminergiques,thérapie physique,...</td>\n",
       "      <td>examen neurologique,imagerie cérébrale,tests s...</td>\n",
       "      <td>tremblement repo raideur musculaire lenteur mo...</td>\n",
       "      <td>0.000000</td>\n",
       "    </tr>\n",
       "  </tbody>\n",
       "</table>\n",
       "<p>101 rows × 6 columns</p>\n",
       "</div>"
      ],
      "text/plain": [
       "                     Maladies  \\\n",
       "96                  paludisme   \n",
       "84                  varicelle   \n",
       "91                     cancer   \n",
       "44           maladie cœliaque   \n",
       "60               mésothéliome   \n",
       "..                        ...   \n",
       "62               ostéosarcome   \n",
       "87                 coqueluche   \n",
       "4               schizophrénie   \n",
       "22  condylomes génitaux (hpv)   \n",
       "42       maladie de parkinson   \n",
       "\n",
       "                                            Symptomes  \\\n",
       "96               fièvre,frissons,maux de tête,fatigue   \n",
       "84  éruption cutanée avec des démangeaisons,fièvre...   \n",
       "91  perte de poids inexpliquée,bosse anormale,fati...   \n",
       "44  diarrhée chronique,douleurs abdominales,ballon...   \n",
       "60  essoufflement,douleur thoracique,toux persista...   \n",
       "..                                                ...   \n",
       "62  douleur osseuse, généralement dans les bras ou...   \n",
       "87  toux sévère par accès,éternuements,épuisement,...   \n",
       "4   hallucinations auditives,hallucinations olfact...   \n",
       "22  verrues génitales,démangeaisons,saignements pe...   \n",
       "42  tremblements au repos,raideur musculaire,lente...   \n",
       "\n",
       "                                           Traitement  \\\n",
       "96                               antipaludiques,repos   \n",
       "84  antihistaminiques,antipyrétiques,calamine pour...   \n",
       "91             chirurgie,chimiothérapie,radiothérapie   \n",
       "44  régime sans gluten,suppléments nutritionnels,m...   \n",
       "60           chirurgie,chimiothérapie,thérapie ciblée   \n",
       "..                                                ...   \n",
       "62             chirurgie,chimiothérapie,radiothérapie   \n",
       "87                     antibiotiques,vaccin de rappel   \n",
       "4   antipsychotiques,thérapie psychosociale,hospit...   \n",
       "22            crèmes antivirales,ablation des verrues   \n",
       "42  médicaments dopaminergiques,thérapie physique,...   \n",
       "\n",
       "                                              Examens  \\\n",
       "96                     test de dépistage du paludisme   \n",
       "84  les symptômes sont souvent suffisants pour le ...   \n",
       "91                          biopsie,imagerie médicale   \n",
       "44  analyse de sang (anticorps),biopsie de l'intes...   \n",
       "60       scanner thoracique,biopsie,imagerie médicale   \n",
       "..                                                ...   \n",
       "62                           radiographie,irm,biopsie   \n",
       "87  prélèvement de sécrétions nasales pour la culture   \n",
       "4   évaluation psychiatrique,entretiens cliniques,...   \n",
       "22                             test hpv,examen visuel   \n",
       "42  examen neurologique,imagerie cérébrale,tests s...   \n",
       "\n",
       "                                  Symptomes_lem_token  Similarite_%  \n",
       "96                   fievre frisson maux tete fatigue    100.000000  \n",
       "84  eruption peau demangeaison fievre maux tete fa...     95.949553  \n",
       "91  perte poid inexplique bosse anormauxe fatigue ...     95.833342  \n",
       "44  diarrhe chronique maux ventre ballonnement fat...     95.035814  \n",
       "60  essouffle maux thoracique toux persistante per...     94.386656  \n",
       "..                                                ...           ...  \n",
       "62  maux osseuse generale bra jambe gonfle autour ...     41.325473  \n",
       "87  toux severe acce eternuement epuise vomissemen...      0.000000  \n",
       "4   hallucination auditive olfactive visuelle idee...      0.000000  \n",
       "22  verrue genitale demangeaison saignement rappor...      0.000000  \n",
       "42  tremblement repo raideur musculaire lenteur mo...      0.000000  \n",
       "\n",
       "[101 rows x 6 columns]"
      ]
     },
     "execution_count": 14,
     "metadata": {},
     "output_type": "execute_result"
    }
   ],
   "source": [
    "print(liste_symptomes)\n",
    "df_tri"
   ]
  },
  {
   "cell_type": "code",
   "execution_count": null,
   "id": "86a43907",
   "metadata": {},
   "outputs": [],
   "source": []
  },
  {
   "cell_type": "code",
   "execution_count": null,
   "id": "63648990",
   "metadata": {},
   "outputs": [],
   "source": []
  },
  {
   "cell_type": "code",
   "execution_count": null,
   "id": "f8f73f03",
   "metadata": {},
   "outputs": [],
   "source": []
  }
 ],
 "metadata": {
  "kernelspec": {
   "display_name": "Python 3 (ipykernel)",
   "language": "python",
   "name": "python3"
  },
  "language_info": {
   "codemirror_mode": {
    "name": "ipython",
    "version": 3
   },
   "file_extension": ".py",
   "mimetype": "text/x-python",
   "name": "python",
   "nbconvert_exporter": "python",
   "pygments_lexer": "ipython3",
   "version": "3.11.5"
  }
 },
 "nbformat": 4,
 "nbformat_minor": 5
}
