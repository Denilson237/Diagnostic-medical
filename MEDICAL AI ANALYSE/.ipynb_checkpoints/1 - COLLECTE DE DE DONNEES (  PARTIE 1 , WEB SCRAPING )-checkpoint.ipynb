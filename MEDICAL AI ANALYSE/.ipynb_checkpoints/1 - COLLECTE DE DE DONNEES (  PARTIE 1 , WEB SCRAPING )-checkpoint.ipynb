{
 "cells": [
  {
   "cell_type": "markdown",
   "id": "27ea26ee",
   "metadata": {},
   "source": [
    "# <center>COLLECTE DE DONNEES, PARTIE 1: WEB SCRAPING.</center>\n",
    "\n",
    "   ### <center>LES MALADIES SUIVANTES ONT ETE SCRAPEES SUR WIKIPEDIA.</center>\n",
    "                                 NB: ces donnees representent seulement une partie \n",
    "                                        des maladies de notre dataset final"
   ]
  },
  {
   "cell_type": "markdown",
   "id": "38f2d243",
   "metadata": {},
   "source": [
    "### <center>OBJECTIF: Receuilir le maximum de noms de maladies sur internet.</center>\n",
    "___"
   ]
  },
  {
   "cell_type": "markdown",
   "id": "9b7a170b",
   "metadata": {},
   "source": [
    "### Importations"
   ]
  },
  {
   "cell_type": "code",
   "execution_count": 1,
   "id": "c18bdb21",
   "metadata": {},
   "outputs": [],
   "source": [
    "import requests\n",
    "from bs4 import BeautifulSoup\n",
    "import pandas as pd"
   ]
  },
  {
   "cell_type": "markdown",
   "id": "d4937d6f",
   "metadata": {},
   "source": [
    "### Receuillons la liste de noms de cancer."
   ]
  },
  {
   "cell_type": "code",
   "execution_count": 2,
   "id": "f8ba10df",
   "metadata": {},
   "outputs": [
    {
     "name": "stdout",
     "output_type": "stream",
     "text": [
      "['tumeur du cerveau', 'cancer du col utérin', 'cancer colorectal', 'tumeur cutanée', \"cancer de l'endomètre\"]\n"
     ]
    }
   ],
   "source": [
    "url = \"https://fr.wikipedia.org/wiki/Liste_de_cancers\"\n",
    "pages = requests.get(url)\n",
    "\n",
    "if (pages.status_code ==200):\n",
    "    parsePage = BeautifulSoup(pages.content,\"lxml\")\n",
    "    p = parsePage.find(\"div\",{\"class\":\"mw-content-ltr mw-parser-output\"})\n",
    "    a = p.find_all(\"li\")\n",
    "    cancers = [\"\".join(t.text.split(\"(\")[::2]) for t in a]\n",
    "    print(cancers[:5])\n",
    "else:\n",
    "    print(\"ERREUR: Veuillez verifier l'url de connection \")"
   ]
  },
  {
   "cell_type": "markdown",
   "id": "357db433",
   "metadata": {},
   "source": [
    "### Receuillons la de noms des maladies infectueuses."
   ]
  },
  {
   "cell_type": "code",
   "execution_count": 3,
   "id": "df9215e4",
   "metadata": {},
   "outputs": [
    {
     "name": "stdout",
     "output_type": "stream",
     "text": [
      "['Acinetobacter ', 'Actinomycose', 'Maladie du sommeil ', 'SIDA ', 'Amibiase']\n"
     ]
    }
   ],
   "source": [
    "url = \"https://fr.wikipedia.org/wiki/Liste_des_maladies_infectieuses\"\n",
    "pages = requests.get(url)\n",
    "\n",
    "if (pages.status_code ==200):\n",
    "    parsePage = BeautifulSoup(pages.content,\"lxml\")\n",
    "    elemet =parsePage.find_all(\"td\")\n",
    "    maladies_inf = [\"\".join(t.text.split(\"(\")[::2]).replace(\")\", '').replace(\"\\n\", '') for t in elemet][::2]\n",
    "    print(maladies_inf[:5])\n",
    "else:\n",
    "    print(\"ERREUR: Veuillez verifier l'url de connection \")"
   ]
  },
  {
   "cell_type": "markdown",
   "id": "edefa2d2",
   "metadata": {},
   "source": [
    "### Creation du dataset  "
   ]
  },
  {
   "cell_type": "code",
   "execution_count": 4,
   "id": "3408ab5b",
   "metadata": {},
   "outputs": [
    {
     "data": {
      "text/html": [
       "<div>\n",
       "<style scoped>\n",
       "    .dataframe tbody tr th:only-of-type {\n",
       "        vertical-align: middle;\n",
       "    }\n",
       "\n",
       "    .dataframe tbody tr th {\n",
       "        vertical-align: top;\n",
       "    }\n",
       "\n",
       "    .dataframe thead th {\n",
       "        text-align: right;\n",
       "    }\n",
       "</style>\n",
       "<table border=\"1\" class=\"dataframe\">\n",
       "  <thead>\n",
       "    <tr style=\"text-align: right;\">\n",
       "      <th></th>\n",
       "      <th>Maladies infectueuses</th>\n",
       "      <th>Cancers</th>\n",
       "    </tr>\n",
       "  </thead>\n",
       "  <tbody>\n",
       "    <tr>\n",
       "      <th>0</th>\n",
       "      <td>Acinetobacter</td>\n",
       "      <td>tumeur du cerveau</td>\n",
       "    </tr>\n",
       "    <tr>\n",
       "      <th>1</th>\n",
       "      <td>Actinomycose</td>\n",
       "      <td>cancer du col utérin</td>\n",
       "    </tr>\n",
       "    <tr>\n",
       "      <th>2</th>\n",
       "      <td>Maladie du sommeil</td>\n",
       "      <td>cancer colorectal</td>\n",
       "    </tr>\n",
       "    <tr>\n",
       "      <th>3</th>\n",
       "      <td>SIDA</td>\n",
       "      <td>tumeur cutanée</td>\n",
       "    </tr>\n",
       "    <tr>\n",
       "      <th>4</th>\n",
       "      <td>Amibiase</td>\n",
       "      <td>cancer de l'endomètre</td>\n",
       "    </tr>\n",
       "  </tbody>\n",
       "</table>\n",
       "</div>"
      ],
      "text/plain": [
       "  Maladies infectueuses                Cancers\n",
       "0        Acinetobacter       tumeur du cerveau\n",
       "1          Actinomycose   cancer du col utérin\n",
       "2   Maladie du sommeil       cancer colorectal\n",
       "3                 SIDA          tumeur cutanée\n",
       "4              Amibiase  cancer de l'endomètre"
      ]
     },
     "execution_count": 4,
     "metadata": {},
     "output_type": "execute_result"
    }
   ],
   "source": [
    "data2 = {\n",
    "    'Cancers' : cancers\n",
    "}\n",
    "\n",
    "data1 = {\n",
    "    \"Maladies infectueuses\" : maladies_inf\n",
    "}\n",
    "\n",
    "df2 = pd.DataFrame(data2)\n",
    "df1 = pd.DataFrame(data1)\n",
    "\n",
    "df = pd.concat([df1, df2], axis=1)\n",
    "\n",
    "df.head()"
   ]
  },
  {
   "cell_type": "markdown",
   "id": "c53d6d70",
   "metadata": {},
   "source": [
    "### Exportation"
   ]
  },
  {
   "cell_type": "code",
   "execution_count": 5,
   "id": "d9852d7f",
   "metadata": {},
   "outputs": [
    {
     "name": "stdout",
     "output_type": "stream",
     "text": [
      "DataFrame exporté avec succès.\n"
     ]
    }
   ],
   "source": [
    "# Exportation du DataFrame en fichier CSV\n",
    "\n",
    "df.to_excel('Ressources/RessourcesCollecte1/maladies_infectieuses.xlsx', index=False)\n",
    "\n",
    "# Exportation en fichier excel\n",
    "\n",
    "df.to_csv('Ressources/RessourcesCollecte1/maladies_infectieuses.csv', index=False)\n",
    "\n",
    "print(\"DataFrame exporté avec succès.\")"
   ]
  }
 ],
 "metadata": {
  "kernelspec": {
   "display_name": "Python 3 (ipykernel)",
   "language": "python",
   "name": "python3"
  },
  "language_info": {
   "codemirror_mode": {
    "name": "ipython",
    "version": 3
   },
   "file_extension": ".py",
   "mimetype": "text/x-python",
   "name": "python",
   "nbconvert_exporter": "python",
   "pygments_lexer": "ipython3",
   "version": "3.11.5"
  }
 },
 "nbformat": 4,
 "nbformat_minor": 5
}
